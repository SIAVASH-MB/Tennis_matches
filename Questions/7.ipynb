{
 "cells": [
  {
   "cell_type": "code",
   "execution_count": 2,
   "id": "a02212dc",
   "metadata": {},
   "outputs": [],
   "source": [
    "#period_info table\n",
    "from glob import glob\n",
    "import pandas as pd\n",
    "# Find all directories under tennis_data/\n",
    "date_folders = glob('tennis_data/*')\n",
    "\n",
    "# Create an empty list to store all files\n",
    "files_to_load_period = []\n",
    "\n",
    "# Loop through each date folder and load .parquet files\n",
    "for folder in date_folders:\n",
    "    files_to_load_period.extend(\n",
    "        glob(f'{folder}/data/raw/raw_statistics_parquet/*.parquet')\n",
    "    )\n",
    "df_period = [pd.read_parquet(file) for file in files_to_load_period]\n",
    "df_period = pd.concat(df_period, ignore_index=True)"
   ]
  },
  {
   "cell_type": "code",
   "execution_count": null,
   "id": "56ab56a1",
   "metadata": {},
   "outputs": [
    {
     "name": "stdout",
     "output_type": "stream",
     "text": [
      "Average number of aces per match: 21.66\n"
     ]
    }
   ],
   "source": [
    "df_aces = df_period[df_period['statistic_name'] == 'aces']\n",
    "aces_per_match = df_aces.groupby('match_id')[['home_value','away_value']].sum().sum(axis=1)\n",
    "average_aces = aces_per_match.mean()\n",
    "print(f\"Average number of aces per match: {average_aces:.2f}\")\n"
   ]
  }
 ],
 "metadata": {
  "kernelspec": {
   "display_name": "Python 3",
   "language": "python",
   "name": "python3"
  },
  "language_info": {
   "codemirror_mode": {
    "name": "ipython",
    "version": 3
   },
   "file_extension": ".py",
   "mimetype": "text/x-python",
   "name": "python",
   "nbconvert_exporter": "python",
   "pygments_lexer": "ipython3",
   "version": "3.13.5"
  }
 },
 "nbformat": 4,
 "nbformat_minor": 5
}
