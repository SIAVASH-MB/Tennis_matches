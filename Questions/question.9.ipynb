{
 "cells": [
  {
   "cell_type": "code",
   "execution_count": 1,
   "id": "273ff9dd",
   "metadata": {},
   "outputs": [],
   "source": [
    "#match_away_team_info table\n",
    "from glob import glob\n",
    "import pandas as pd\n",
    "# Find all directories under tennis_data/\n",
    "date_folders = glob('tennis_data/*')\n",
    "\n",
    "column_away= ['match_id', 'player_id','full_name']\n",
    "files_away= []\n",
    "# Loop through each date folder and load .parquet files\n",
    "for folder in date_folders:\n",
    "    files_away.extend(\n",
    "    [f for f in glob(f'{folder}/data/raw/raw_match_parquet/away_team*.parquet') if '_score' not in f]\n",
    "    )\n",
    "df_away_team_info = [pd.read_parquet(file, columns=column_away) for file in files_away]\n",
    "df_away_team_info = pd.concat(df_away_team_info, ignore_index=True)"
   ]
  },
  {
   "cell_type": "code",
   "execution_count": 2,
   "id": "4cac5a5d",
   "metadata": {},
   "outputs": [],
   "source": [
    "#matchhometeaminfo table\n",
    "column_home= ['match_id', 'player_id', 'full_name']\n",
    "\n",
    "# Create an empty list to store all files\n",
    "files_home= []\n",
    "# Loop through each date folder and load .parquet files\n",
    "for folder in date_folders:\n",
    "    files_home.extend(\n",
    "    [f for f in glob(f'{folder}/data/raw/raw_match_parquet/home_team*.parquet') if '_score' not in f]\n",
    "    )\n",
    "df_home_team_info = [pd.read_parquet(file, columns=column_home) for file in files_home]\n",
    "df_home_team_info = pd.concat(df_home_team_info, ignore_index=True)"
   ]
  },
  {
   "cell_type": "code",
   "execution_count": 3,
   "id": "306b6da8",
   "metadata": {},
   "outputs": [],
   "source": [
    "# Match_event_info table\n",
    "files_event = []\n",
    "column_event= ['match_id','winner_code','start_datetime']\n",
    "# Loop through each date folder and load .parquet files\n",
    "for folder in date_folders:\n",
    "    files_event.extend(\n",
    "        glob(f'{folder}/data/raw/raw_match_parquet/event*.parquet')\n",
    "    )\n",
    "event_info = [pd.read_parquet(file, columns=column_event) for file in files_event]\n",
    "event_info = pd.concat(event_info, ignore_index=True)"
   ]
  },
  {
   "cell_type": "code",
   "execution_count": 4,
   "id": "8e8da81f",
   "metadata": {},
   "outputs": [],
   "source": [
    "tour_info = []\n",
    "\n",
    "# Loop through each date folder and load .parquet files\n",
    "for folder in date_folders:\n",
    "    tour_info.extend(\n",
    "        glob(f'{folder}/data/raw/raw_match_parquet/tournament*.parquet')\n",
    "    )\n",
    "\n",
    "df_tour_info = [pd.read_parquet(file) for file in tour_info]\n",
    "df_tour_info = pd.concat(df_tour_info, ignore_index=True)"
   ]
  },
  {
   "cell_type": "code",
   "execution_count": 75,
   "id": "da817ebc",
   "metadata": {},
   "outputs": [
    {
     "name": "stdout",
     "output_type": "stream",
     "text": [
      "         winner_name    month  tournament_wins\n",
      "2439      Naw, Hazem  2024-02                7\n",
      "576   Cekirge, Kuzey  2024-03                7\n",
      "2887    Ratti, Lucio  2024-03                7\n"
     ]
    }
   ],
   "source": [
    "import pandas as pd\n",
    "\n",
    "# Step 1: Filter matches with valid winner\n",
    "df_event_win = event_info[event_info['winner_code'].isin([1, 2])]\n",
    "\n",
    "# Step 2: Join with player info\n",
    "df_home_win = df_event_win[df_event_win['winner_code'] == 1].merge(\n",
    "    df_home_team_info[['match_id', 'full_name']], on='match_id', how='left'\n",
    ")\n",
    "df_home_win['winner_name'] = df_home_win['full_name']\n",
    "\n",
    "df_away_win = df_event_win[df_event_win['winner_code'] == 2].merge(\n",
    "    df_away_team_info[['match_id', 'full_name']], on='match_id', how='left'\n",
    ")\n",
    "df_away_win['winner_name'] = df_away_win['full_name']\n",
    "\n",
    "# Combine all winning matches\n",
    "df_winners = pd.concat([df_home_win, df_away_win], ignore_index=True)\n",
    "\n",
    "# Step 3: Join with tournament info\n",
    "df_winners = df_winners.merge(\n",
    "    df_tour_info[['match_id', 'tournament_name']], on='match_id', how='left'\n",
    ")\n",
    "\n",
    "# Step 4: Add match month\n",
    "df_winners['month'] = pd.to_datetime(df_winners['start_datetime'], unit='s').dt.to_period('M')\n",
    "\n",
    "# Step 5: Count unique tournaments per player per month\n",
    "df_winners_unique = df_winners[['winner_name', 'month', 'tournament_name']].drop_duplicates()\n",
    "df_counts = df_winners_unique.groupby(['winner_name', 'month']).size().reset_index(name='tournament_wins')\n",
    "\n",
    "# Step 6: Find max\n",
    "top_winner = df_counts.loc[df_counts['tournament_wins'].idxmax()]\n",
    "\n",
    "# Find maximum number of wins\n",
    "max_wins = df_counts['tournament_wins'].max()\n",
    "\n",
    "# Filter all players with that max\n",
    "top_players = df_counts[df_counts['tournament_wins'] == max_wins]\n",
    "\n",
    "print(top_players.sort_values(['month', 'winner_name']))\n"
   ]
  }
 ],
 "metadata": {
  "kernelspec": {
   "display_name": "Python 3",
   "language": "python",
   "name": "python3"
  },
  "language_info": {
   "codemirror_mode": {
    "name": "ipython",
    "version": 3
   },
   "file_extension": ".py",
   "mimetype": "text/x-python",
   "name": "python",
   "nbconvert_exporter": "python",
   "pygments_lexer": "ipython3",
   "version": "3.13.5"
  }
 },
 "nbformat": 4,
 "nbformat_minor": 5
}
