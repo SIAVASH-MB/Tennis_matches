{
 "cells": [
  {
   "cell_type": "code",
   "execution_count": 10,
   "id": "bdf34564",
   "metadata": {},
   "outputs": [],
   "source": [
    "from glob import glob\n",
    "import pandas as pd\n",
    "# Find all directories under tennis_data/\n",
    "date_folders = glob('tennis_data/*')\n",
    "columns_to_load = ['player_id']\n",
    "\n",
    "# Create an empty list to store all files\n",
    "files_to_load = []\n",
    "# Loop through each date folder and load .parquet files\n",
    "for folder in date_folders:\n",
    "    files_to_load.extend(\n",
    "    [f for f in glob(f'{folder}/data/raw/raw_match_parquet/home_team*.parquet') if '_score' not in f]\n",
    "    )\n",
    "    files_to_load.extend(\n",
    "        [f for f in glob(f'{folder}/data/raw/raw_match_parquet/away_team*.parquet') if '_score' not in f]\n",
    "    )\n",
    "\n",
    "df_team_info = [pd.read_parquet(file, columns=columns_to_load) for file in files_to_load]\n",
    "df_team_info = pd.concat(df_team_info, ignore_index=True)"
   ]
  },
  {
   "cell_type": "code",
   "execution_count": null,
   "id": "f39b1e01",
   "metadata": {},
   "outputs": [
    {
     "name": "stdout",
     "output_type": "stream",
     "text": [
      "2644 tennis players are included in the dataset\n"
     ]
    }
   ],
   "source": [
    "#How many tennis players are included in the dataset? \n",
    "totaol_players = df_team_info['player_id'].nunique()\n",
    "print(f\"{totaol_players} tennis players are included in the dataset.\")"
   ]
  }
 ],
 "metadata": {
  "kernelspec": {
   "display_name": "Python 3",
   "language": "python",
   "name": "python3"
  },
  "language_info": {
   "codemirror_mode": {
    "name": "ipython",
    "version": 3
   },
   "file_extension": ".py",
   "mimetype": "text/x-python",
   "name": "python",
   "nbconvert_exporter": "python",
   "pygments_lexer": "ipython3",
   "version": "3.13.5"
  }
 },
 "nbformat": 4,
 "nbformat_minor": 5
}
