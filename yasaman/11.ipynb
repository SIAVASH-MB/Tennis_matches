{
 "cells": [
  {
   "cell_type": "code",
   "execution_count": 1,
   "id": "3ecca80b",
   "metadata": {},
   "outputs": [],
   "source": [
    "from glob import glob\n",
    "import pandas as pd\n",
    "# Find all directories under tennis_data/\n",
    "date_folders = glob('tennis_data/*')\n",
    "\n",
    "# Create an empty list to store all files\n",
    "files_to_load_time = []\n",
    "\n",
    "# Loop through each date folder and load .parquet files\n",
    "for folder in date_folders:\n",
    "    files_to_load_time.extend(\n",
    "        glob(f'{folder}/data/raw/raw_match_parquet/time*.parquet')\n",
    "    )\n",
    "df_time = [pd.read_parquet(file) for file in files_to_load_time]\n",
    "df_time = pd.concat(df_time, ignore_index=True)"
   ]
  },
  {
   "cell_type": "code",
   "execution_count": 34,
   "id": "8a530a23",
   "metadata": {},
   "outputs": [
    {
     "name": "stdout",
     "output_type": "stream",
     "text": [
      "Average match duration: 159.42 minutes or 2.66 hours\n"
     ]
    }
   ],
   "source": [
    "df_total =  df_time.groupby('match_id')[['period_1','period_2','period_3','period_4','period_5']].sum()\n",
    "average_duration=df_total.sum(axis=1).mean()\n",
    "print(f\"Average match duration: {average_duration/60:.2f} minutes or {average_duration/3600:.2f} hours\")"
   ]
  }
 ],
 "metadata": {
  "kernelspec": {
   "display_name": "Python 3",
   "language": "python",
   "name": "python3"
  },
  "language_info": {
   "codemirror_mode": {
    "name": "ipython",
    "version": 3
   },
   "file_extension": ".py",
   "mimetype": "text/x-python",
   "name": "python",
   "nbconvert_exporter": "python",
   "pygments_lexer": "ipython3",
   "version": "3.13.5"
  }
 },
 "nbformat": 4,
 "nbformat_minor": 5
}
