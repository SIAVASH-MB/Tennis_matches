{
 "cells": [
  {
   "cell_type": "code",
   "execution_count": 7,
   "id": "86d57447",
   "metadata": {},
   "outputs": [],
   "source": [
    "from glob import glob\n",
    "import pandas as pd\n",
    "# Find all directories under tennis_data/\n",
    "date_folders = glob('tennis_data/*')\n",
    "\n",
    "# Create an empty list to store all files\n",
    "files_to_load_power = []\n",
    "\n",
    "# Loop through each date folder and load .parquet files\n",
    "for folder in date_folders:\n",
    "    files_to_load_power.extend(\n",
    "        glob(f'{folder}/data/raw/raw_tennis_power_parquet/power*.parquet')\n",
    "    )\n",
    "df_power = [pd.read_parquet(file) for file in files_to_load_power]\n",
    "df_power = pd.concat(df_power, ignore_index=True)"
   ]
  },
  {
   "cell_type": "code",
   "execution_count": 23,
   "id": "7753d204",
   "metadata": {},
   "outputs": [],
   "source": [
    "#match_away_team_info table\n",
    "column_away= ['match_id','gender']\n",
    "files_away= []\n",
    "# Loop through each date folder and load .parquet files\n",
    "for folder in date_folders:\n",
    "    files_away.extend(\n",
    "    [f for f in glob(f'{folder}/data/raw/raw_match_parquet/away_team*.parquet') if '_score' not in f]\n",
    "    )\n",
    "df_away_team_info = [pd.read_parquet(file, columns=column_away) for file in files_away]\n",
    "df_away_team_info = pd.concat(df_away_team_info, ignore_index=True)"
   ]
  },
  {
   "cell_type": "code",
   "execution_count": 24,
   "id": "84905322",
   "metadata": {},
   "outputs": [],
   "source": [
    "column_home= ['match_id','gender']\n",
    "\n",
    "# Create an empty list to store all files\n",
    "files_home= []\n",
    "# Loop through each date folder and load .parquet files\n",
    "for folder in date_folders:\n",
    "    files_home.extend(\n",
    "    [f for f in glob(f'{folder}/data/raw/raw_match_parquet/home_team*.parquet') if '_score' not in f]\n",
    "    )\n",
    "df_home_team_info = [pd.read_parquet(file, columns=column_home) for file in files_home]\n",
    "df_home_team_info = pd.concat(df_home_team_info, ignore_index=True)"
   ]
  },
  {
   "cell_type": "code",
   "execution_count": 122,
   "id": "42420756",
   "metadata": {},
   "outputs": [],
   "source": [
    "df_power.drop_duplicates(subset=['match_id', 'set_num', 'game_num'])\n",
    "\n",
    "df = (\n",
    "    df_power\n",
    "    .merge(df_home_team_info[['match_id','gender']], on='match_id', how='left')\n",
    ")"
   ]
  },
  {
   "cell_type": "code",
   "execution_count": 124,
   "id": "abddfe05",
   "metadata": {},
   "outputs": [
    {
     "data": {
      "text/html": [
       "<div>\n",
       "<style scoped>\n",
       "    .dataframe tbody tr th:only-of-type {\n",
       "        vertical-align: middle;\n",
       "    }\n",
       "\n",
       "    .dataframe tbody tr th {\n",
       "        vertical-align: top;\n",
       "    }\n",
       "\n",
       "    .dataframe thead th {\n",
       "        text-align: right;\n",
       "    }\n",
       "</style>\n",
       "<table border=\"1\" class=\"dataframe\">\n",
       "  <thead>\n",
       "    <tr style=\"text-align: right;\">\n",
       "      <th></th>\n",
       "      <th>match_id</th>\n",
       "      <th>set_num</th>\n",
       "      <th>game_num</th>\n",
       "      <th>value</th>\n",
       "      <th>break_occurred</th>\n",
       "      <th>gender</th>\n",
       "    </tr>\n",
       "  </thead>\n",
       "  <tbody>\n",
       "    <tr>\n",
       "      <th>699434</th>\n",
       "      <td>12160977</td>\n",
       "      <td>2</td>\n",
       "      <td>8</td>\n",
       "      <td>10.00</td>\n",
       "      <td>False</td>\n",
       "      <td>F</td>\n",
       "    </tr>\n",
       "    <tr>\n",
       "      <th>642856</th>\n",
       "      <td>12110035</td>\n",
       "      <td>2</td>\n",
       "      <td>1</td>\n",
       "      <td>-54.90</td>\n",
       "      <td>False</td>\n",
       "      <td>F</td>\n",
       "    </tr>\n",
       "    <tr>\n",
       "      <th>507656</th>\n",
       "      <td>12128247</td>\n",
       "      <td>2</td>\n",
       "      <td>1</td>\n",
       "      <td>10.00</td>\n",
       "      <td>False</td>\n",
       "      <td>F</td>\n",
       "    </tr>\n",
       "    <tr>\n",
       "      <th>867682</th>\n",
       "      <td>12193293</td>\n",
       "      <td>2</td>\n",
       "      <td>2</td>\n",
       "      <td>36.80</td>\n",
       "      <td>True</td>\n",
       "      <td>M</td>\n",
       "    </tr>\n",
       "    <tr>\n",
       "      <th>603555</th>\n",
       "      <td>12147881</td>\n",
       "      <td>1</td>\n",
       "      <td>10</td>\n",
       "      <td>-28.64</td>\n",
       "      <td>True</td>\n",
       "      <td>M</td>\n",
       "    </tr>\n",
       "  </tbody>\n",
       "</table>\n",
       "</div>"
      ],
      "text/plain": [
       "        match_id  set_num  game_num  value  break_occurred gender\n",
       "699434  12160977        2         8  10.00           False      F\n",
       "642856  12110035        2         1 -54.90           False      F\n",
       "507656  12128247        2         1  10.00           False      F\n",
       "867682  12193293        2         2  36.80            True      M\n",
       "603555  12147881        1        10 -28.64            True      M"
      ]
     },
     "execution_count": 124,
     "metadata": {},
     "output_type": "execute_result"
    }
   ],
   "source": [
    "df.sample(5)"
   ]
  },
  {
   "cell_type": "code",
   "execution_count": 127,
   "id": "e7c7308e",
   "metadata": {},
   "outputs": [
    {
     "name": "stdout",
     "output_type": "stream",
     "text": [
      "  gender  avg_games_per_set\n",
      "0      F           8.938153\n",
      "1      M           9.304300\n"
     ]
    }
   ],
   "source": [
    "# Remove duplicate games\n",
    "unique_games = df_power.drop_duplicates(subset=['match_id', 'set_num', 'game_num'])\n",
    "\n",
    "# Merge gender info from home team\n",
    "match_gender = df_home_team_info[['match_id', 'gender']].drop_duplicates()\n",
    "unique_games = unique_games.merge(match_gender, on='match_id', how='left')\n",
    "\n",
    "# Count how many games per set\n",
    "games_per_set = unique_games.groupby(['match_id', 'set_num', 'gender']).size().reset_index(name='games')\n",
    "\n",
    "# Now compute average by gender\n",
    "avg_games_by_gender = games_per_set.groupby('gender')['games'].mean().reset_index(name='avg_games_per_set')\n",
    "\n",
    "print(avg_games_by_gender)\n"
   ]
  }
 ],
 "metadata": {
  "kernelspec": {
   "display_name": "Python 3",
   "language": "python",
   "name": "python3"
  },
  "language_info": {
   "codemirror_mode": {
    "name": "ipython",
    "version": 3
   },
   "file_extension": ".py",
   "mimetype": "text/x-python",
   "name": "python",
   "nbconvert_exporter": "python",
   "pygments_lexer": "ipython3",
   "version": "3.13.5"
  }
 },
 "nbformat": 4,
 "nbformat_minor": 5
}
