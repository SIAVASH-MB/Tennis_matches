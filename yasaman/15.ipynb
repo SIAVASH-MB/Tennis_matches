{
 "cells": [
  {
   "cell_type": "code",
   "execution_count": null,
   "id": "025e67c2",
   "metadata": {},
   "outputs": [],
   "source": [
    "venue_info = []\n",
    "\n",
    "# Loop through each date folder and load .parquet files\n",
    "for folder in date_folders:\n",
    "    venue_info.extend(\n",
    "        glob(f'{folder}/data/raw/raw_match_parquet/venue*.parquet')\n",
    "    )\n",
    "\n",
    "print(f\"Total files loaded: {len(venue_info)}\") \n",
    "df_venue_info = [pd.read_parquet(file) for file in venue_info]\n",
    "df_venue_info = pd.concat(df_venue_info, ignore_index=True)\n",
    "df_venue_info.head()"
   ]
  },
  {
   "cell_type": "code",
   "execution_count": null,
   "id": "b4a0bde6",
   "metadata": {},
   "outputs": [],
   "source": [
    "All_Players=pd.concat([df_away_team_info[\"country\"],df_home_team_info[\"country\"],df_venue_info['country']],axis=0)\n",
    "All_Players.nunique()"
   ]
  }
 ],
 "metadata": {
  "language_info": {
   "name": "python"
  }
 },
 "nbformat": 4,
 "nbformat_minor": 5
}
