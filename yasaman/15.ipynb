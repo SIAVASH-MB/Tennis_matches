{
 "cells": [
  {
   "cell_type": "code",
   "execution_count": 6,
   "id": "025e67c2",
   "metadata": {},
   "outputs": [],
   "source": [
    "from glob import glob\n",
    "import pandas as pd\n",
    "# Find all directories under tennis_data/\n",
    "date_folders = glob('tennis_data/*')\n",
    "venue_info = []\n",
    "\n",
    "# Loop through each date folder and load .parquet files\n",
    "for folder in date_folders:\n",
    "    venue_info.extend(\n",
    "        glob(f'{folder}/data/raw/raw_match_parquet/venue*.parquet')\n",
    "    )\n",
    "\n",
    "df_venue_info = [pd.read_parquet(file) for file in venue_info]\n",
    "df_venue_info = pd.concat(df_venue_info, ignore_index=True)"
   ]
  },
  {
   "cell_type": "code",
   "execution_count": 5,
   "id": "1425a54b",
   "metadata": {},
   "outputs": [],
   "source": [
    "#match_away_team_info table\n",
    "column_away= ['country']\n",
    "files_away= []\n",
    "# Loop through each date folder and load .parquet files\n",
    "for folder in date_folders:\n",
    "    files_away.extend(\n",
    "    [f for f in glob(f'{folder}/data/raw/raw_match_parquet/away_team*.parquet') if '_score' not in f]\n",
    "    )\n",
    "df_away_team_info = [pd.read_parquet(file, columns=column_away) for file in files_away]\n",
    "df_away_team_info = pd.concat(df_away_team_info, ignore_index=True)"
   ]
  },
  {
   "cell_type": "code",
   "execution_count": 7,
   "id": "e53c1cae",
   "metadata": {},
   "outputs": [],
   "source": [
    "\n",
    "column_home= ['country']\n",
    "\n",
    "# Create an empty list to store all files\n",
    "files_home= []\n",
    "# Loop through each date folder and load .parquet files\n",
    "for folder in date_folders:\n",
    "    files_home.extend(\n",
    "    [f for f in glob(f'{folder}/data/raw/raw_match_parquet/home_team*.parquet') if '_score' not in f]\n",
    "    )\n",
    "df_home_team_info = [pd.read_parquet(file, columns=column_home) for file in files_home]\n",
    "df_home_team_info = pd.concat(df_home_team_info, ignore_index=True)"
   ]
  },
  {
   "cell_type": "code",
   "execution_count": 8,
   "id": "b4a0bde6",
   "metadata": {},
   "outputs": [
    {
     "data": {
      "text/plain": [
       "108"
      ]
     },
     "execution_count": 8,
     "metadata": {},
     "output_type": "execute_result"
    }
   ],
   "source": [
    "All_Players=pd.concat([df_away_team_info[\"country\"],df_home_team_info[\"country\"],df_venue_info['country']],axis=0)\n",
    "All_Players.nunique()"
   ]
  }
 ],
 "metadata": {
  "kernelspec": {
   "display_name": "Python 3",
   "language": "python",
   "name": "python3"
  },
  "language_info": {
   "codemirror_mode": {
    "name": "ipython",
    "version": 3
   },
   "file_extension": ".py",
   "mimetype": "text/x-python",
   "name": "python",
   "nbconvert_exporter": "python",
   "pygments_lexer": "ipython3",
   "version": "3.13.5"
  }
 },
 "nbformat": 4,
 "nbformat_minor": 5
}
