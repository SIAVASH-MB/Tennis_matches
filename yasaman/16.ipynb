{
 "cells": [
  {
   "cell_type": "code",
   "execution_count": 30,
   "id": "4e41b830",
   "metadata": {},
   "outputs": [],
   "source": [
    "#Match_home_team_info table\n",
    "\n",
    "from glob import glob\n",
    "import pandas as pd\n",
    "\n",
    "# Find all directories under tennis_data/\n",
    "date_folders = glob('tennis_data/*')\n",
    "column_home= ['match_id', 'player_id', 'name','current_rank']\n",
    "\n",
    "# Create an empty list to store all files\n",
    "files_home= []\n",
    "# Loop through each date folder and load .parquet files\n",
    "for folder in date_folders:\n",
    "    files_home.extend(\n",
    "    [f for f in glob(f'{folder}/data/raw/raw_match_parquet/home_team*.parquet') if '_score' not in f]\n",
    "    )\n",
    "df_home_team_info = [pd.read_parquet(file, columns=column_home) for file in files_home]\n",
    "df_home_team_info = pd.concat(df_home_team_info, ignore_index=True)"
   ]
  },
  {
   "cell_type": "code",
   "execution_count": 31,
   "id": "2d6e2fbc",
   "metadata": {},
   "outputs": [],
   "source": [
    "#match_away_team_info table\n",
    "column_away= ['match_id', 'player_id','name','current_rank']\n",
    "files_away= []\n",
    "# Loop through each date folder and load .parquet files\n",
    "for folder in date_folders:\n",
    "    files_away.extend(\n",
    "    [f for f in glob(f'{folder}/data/raw/raw_match_parquet/away_team*.parquet') if '_score' not in f]\n",
    "    )\n",
    "df_away_team_info = [pd.read_parquet(file, columns=column_away) for file in files_home]\n",
    "df_away_team_info = pd.concat(df_away_team_info, ignore_index=True)"
   ]
  },
  {
   "cell_type": "code",
   "execution_count": 4,
   "id": "bc8b7175",
   "metadata": {},
   "outputs": [],
   "source": [
    "# Match_event_info table\n",
    "files_event = []\n",
    "column_event= ['match_id','winner_code']\n",
    "# Loop through each date folder and load .parquet files\n",
    "for folder in date_folders:\n",
    "    files_event.extend(\n",
    "        glob(f'{folder}/data/raw/raw_match_parquet/event*.parquet')\n",
    "    )\n",
    "event_info = [pd.read_parquet(file, columns=column_event) for file in files_event]\n",
    "event_info = pd.concat(event_info, ignore_index=True)"
   ]
  },
  {
   "cell_type": "code",
   "execution_count": 57,
   "id": "f70b2038",
   "metadata": {},
   "outputs": [],
   "source": [
    "# Merge all necessary tables: event info + home/away player info\n",
    "df1 = (\n",
    "    event_info\n",
    "    .merge(df_home_team_info, on='match_id', suffixes=('', '_home'))\n",
    "    .merge(df_away_team_info, on='match_id', suffixes=('_home', '_away'))\n",
    ")\n",
    "\n",
    "home_wins = df1[(df1['current_rank_away']<=10) & (df1['winner_code']==1)]\n",
    "away_wins = df1[(df1['current_rank_home']<=10) & (df1['winner_code']==2)]\n",
    "wins = pd.concat([\n",
    "    home_wins[['player_id_home']].rename(columns={'player_id_home': 'player_id'}),\n",
    "    away_wins[['player_id_away']].rename(columns={'player_id_away': 'player_id'})\n",
    "])\n",
    "wins\n",
    "home_matches = df1[df1['current_rank_away'] <= 10][['player_id_home']].rename(columns={'player_id_home': 'player_id'})\n",
    "away_matches = df1[df1['current_rank_home'] <= 10][['player_id_away']].rename(columns={'player_id_away': 'player_id'})\n",
    "matches = pd.concat([home_matches, away_matches])\n"
   ]
  }
 ],
 "metadata": {
  "kernelspec": {
   "display_name": "Python 3",
   "language": "python",
   "name": "python3"
  },
  "language_info": {
   "codemirror_mode": {
    "name": "ipython",
    "version": 3
   },
   "file_extension": ".py",
   "mimetype": "text/x-python",
   "name": "python",
   "nbconvert_exporter": "python",
   "pygments_lexer": "ipython3",
   "version": "3.13.5"
  }
 },
 "nbformat": 4,
 "nbformat_minor": 5
}
