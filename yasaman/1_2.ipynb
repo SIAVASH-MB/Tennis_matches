{
 "cells": [
  {
   "cell_type": "code",
   "execution_count": 5,
   "id": "bdf34564",
   "metadata": {},
   "outputs": [
    {
     "name": "stdout",
     "output_type": "stream",
     "text": [
      "Total files loaded: 59256\n"
     ]
    },
    {
     "name": "stderr",
     "output_type": "stream",
     "text": [
      "C:\\Users\\lavan_computer\\AppData\\Local\\Temp\\ipykernel_2996\\3167187476.py:18: FutureWarning: The behavior of DataFrame concatenation with empty or all-NA entries is deprecated. In a future version, this will no longer exclude empty or all-NA columns when determining the result dtypes. To retain the old behavior, exclude the relevant entries before the concat operation.\n",
      "  df_loaded_away = pd.concat(df_to_load_away, ignore_index=True)\n"
     ]
    },
    {
     "name": "stdout",
     "output_type": "stream",
     "text": [
      "<class 'pandas.core.frame.DataFrame'>\n",
      "RangeIndex: 59256 entries, 0 to 59255\n",
      "Data columns (total 31 columns):\n",
      " #   Column              Non-Null Count  Dtype  \n",
      "---  ------              --------------  -----  \n",
      " 0   match_id            59256 non-null  int64  \n",
      " 1   name                24203 non-null  object \n",
      " 2   slug                24203 non-null  object \n",
      " 3   gender              24170 non-null  object \n",
      " 4   user_count          24203 non-null  float64\n",
      " 5   residence           7018 non-null   object \n",
      " 6   birthplace          13895 non-null  object \n",
      " 7   height              13538 non-null  float64\n",
      " 8   weight              6910 non-null   float64\n",
      " 9   plays               11959 non-null  object \n",
      " 10  turned_pro          4727 non-null   object \n",
      " 11  current_prize       23977 non-null  float64\n",
      " 12  total_prize         24070 non-null  float64\n",
      " 13  player_id           24203 non-null  float64\n",
      " 14  current_rank        23878 non-null  float64\n",
      " 15  name_code           24203 non-null  object \n",
      " 16  country             24198 non-null  object \n",
      " 17  full_name           24203 non-null  object \n",
      " 18  current_score       32040 non-null  float64\n",
      " 19  display_score       32040 non-null  float64\n",
      " 20  period_1            32027 non-null  float64\n",
      " 21  period_2            31707 non-null  float64\n",
      " 22  period_3            8807 non-null   float64\n",
      " 23  period_4            0 non-null      object \n",
      " 24  period_5            0 non-null      object \n",
      " 25  period_1_tie_break  2544 non-null   float64\n",
      " 26  period_2_tie_break  2385 non-null   float64\n",
      " 27  period_3_tie_break  650 non-null    float64\n",
      " 28  period_4_tie_break  0 non-null      object \n",
      " 29  period_5_tie_break  0 non-null      object \n",
      " 30  normal_time         0 non-null      object \n",
      "dtypes: float64(15), int64(1), object(15)\n",
      "memory usage: 14.0+ MB\n"
     ]
    }
   ],
   "source": [
    "from glob import glob\n",
    "\n",
    "# Find all directories under tennis_data/\n",
    "date_folders = glob('tennis_data/*')\n",
    "\n",
    "# Create an empty list to store all files\n",
    "files_to_load = []\n",
    "\n",
    "# Loop through each date folder and load .parquet files\n",
    "for folder in date_folders:\n",
    "    files_to_load.extend(\n",
    "        glob(f'{folder}/data/raw/raw_match_parquet/away_team*.parquet')\n",
    "    )\n",
    "\n",
    "print(f\"Total files loaded: {len(files_to_load)}\") \n",
    "import pandas as pd\n",
    "df_to_load_away = [pd.read_parquet(file) for file in files_to_load]\n",
    "df_loaded_away = pd.concat(df_to_load_away, ignore_index=True)\n",
    "df_loaded_away.info()"
   ]
  },
  {
   "cell_type": "code",
   "execution_count": 6,
   "id": "59711333",
   "metadata": {},
   "outputs": [
    {
     "name": "stdout",
     "output_type": "stream",
     "text": [
      "Total files loaded: 60774\n"
     ]
    },
    {
     "name": "stderr",
     "output_type": "stream",
     "text": [
      "C:\\Users\\lavan_computer\\AppData\\Local\\Temp\\ipykernel_2996\\4052494849.py:18: FutureWarning: The behavior of DataFrame concatenation with empty or all-NA entries is deprecated. In a future version, this will no longer exclude empty or all-NA columns when determining the result dtypes. To retain the old behavior, exclude the relevant entries before the concat operation.\n",
      "  df_loaded = pd.concat(df_to_load, ignore_index=True)\n"
     ]
    },
    {
     "name": "stdout",
     "output_type": "stream",
     "text": [
      "<class 'pandas.core.frame.DataFrame'>\n",
      "RangeIndex: 59256 entries, 0 to 59255\n",
      "Data columns (total 31 columns):\n",
      " #   Column              Non-Null Count  Dtype  \n",
      "---  ------              --------------  -----  \n",
      " 0   match_id            59256 non-null  int64  \n",
      " 1   name                24203 non-null  object \n",
      " 2   slug                24203 non-null  object \n",
      " 3   gender              24170 non-null  object \n",
      " 4   user_count          24203 non-null  float64\n",
      " 5   residence           7018 non-null   object \n",
      " 6   birthplace          13895 non-null  object \n",
      " 7   height              13538 non-null  float64\n",
      " 8   weight              6910 non-null   float64\n",
      " 9   plays               11959 non-null  object \n",
      " 10  turned_pro          4727 non-null   object \n",
      " 11  current_prize       23977 non-null  float64\n",
      " 12  total_prize         24070 non-null  float64\n",
      " 13  player_id           24203 non-null  float64\n",
      " 14  current_rank        23878 non-null  float64\n",
      " 15  name_code           24203 non-null  object \n",
      " 16  country             24198 non-null  object \n",
      " 17  full_name           24203 non-null  object \n",
      " 18  current_score       32040 non-null  float64\n",
      " 19  display_score       32040 non-null  float64\n",
      " 20  period_1            32027 non-null  float64\n",
      " 21  period_2            31707 non-null  float64\n",
      " 22  period_3            8807 non-null   float64\n",
      " 23  period_4            0 non-null      object \n",
      " 24  period_5            0 non-null      object \n",
      " 25  period_1_tie_break  2544 non-null   float64\n",
      " 26  period_2_tie_break  2385 non-null   float64\n",
      " 27  period_3_tie_break  650 non-null    float64\n",
      " 28  period_4_tie_break  0 non-null      object \n",
      " 29  period_5_tie_break  0 non-null      object \n",
      " 30  normal_time         0 non-null      object \n",
      "dtypes: float64(15), int64(1), object(15)\n",
      "memory usage: 14.0+ MB\n"
     ]
    }
   ],
   "source": [
    "from glob import glob\n",
    "\n",
    "# Find all directories under tennis_data/\n",
    "date_folders = glob('tennis_data/*')\n",
    "\n",
    "# Create an empty list to store all files\n",
    "files_to_load_home = []\n",
    "\n",
    "# Loop through each date folder and load .parquet files\n",
    "for folder in date_folders:\n",
    "    files_to_load_home.extend(\n",
    "        glob(f'{folder}/data/raw/raw_match_parquet/home_team*.parquet')\n",
    "    )\n",
    "\n",
    "print(f\"Total files loaded: {len(files_to_load_home)}\") \n",
    "import pandas as pd\n",
    "df_to_load = [pd.read_parquet(file) for file in files_to_load]\n",
    "df_loaded = pd.concat(df_to_load, ignore_index=True)\n",
    "df_loaded.info()"
   ]
  },
  {
   "cell_type": "code",
   "execution_count": 3,
   "id": "c14cea09",
   "metadata": {},
   "outputs": [
    {
     "name": "stderr",
     "output_type": "stream",
     "text": [
      "C:\\Users\\lavan_computer\\AppData\\Local\\Temp\\ipykernel_2996\\3592701268.py:3: FutureWarning: The behavior of DataFrame concatenation with empty or all-NA entries is deprecated. In a future version, this will no longer exclude empty or all-NA columns when determining the result dtypes. To retain the old behavior, exclude the relevant entries before the concat operation.\n",
      "  df_loaded = pd.concat(df_to_load, ignore_index=True)\n"
     ]
    },
    {
     "name": "stdout",
     "output_type": "stream",
     "text": [
      "<class 'pandas.core.frame.DataFrame'>\n",
      "RangeIndex: 120030 entries, 0 to 120029\n",
      "Data columns (total 31 columns):\n",
      " #   Column              Non-Null Count   Dtype  \n",
      "---  ------              --------------   -----  \n",
      " 0   match_id            120030 non-null  int64  \n",
      " 1   name                49813 non-null   object \n",
      " 2   slug                49813 non-null   object \n",
      " 3   gender              49745 non-null   object \n",
      " 4   user_count          49813 non-null   float64\n",
      " 5   residence           14205 non-null   object \n",
      " 6   birthplace          28669 non-null   object \n",
      " 7   height              27861 non-null   float64\n",
      " 8   weight              13942 non-null   float64\n",
      " 9   plays               24443 non-null   object \n",
      " 10  turned_pro          9531 non-null    object \n",
      " 11  current_prize       49457 non-null   float64\n",
      " 12  total_prize         49611 non-null   float64\n",
      " 13  player_id           49813 non-null   float64\n",
      " 14  current_rank        49215 non-null   float64\n",
      " 15  name_code           49813 non-null   object \n",
      " 16  country             49799 non-null   object \n",
      " 17  full_name           49813 non-null   object \n",
      " 18  current_score       64190 non-null   float64\n",
      " 19  display_score       64190 non-null   float64\n",
      " 20  period_1            64165 non-null   float64\n",
      " 21  period_2            63514 non-null   float64\n",
      " 22  period_3            17649 non-null   float64\n",
      " 23  period_4            0 non-null       object \n",
      " 24  period_5            0 non-null       object \n",
      " 25  period_1_tie_break  5098 non-null    float64\n",
      " 26  period_2_tie_break  4778 non-null    float64\n",
      " 27  period_3_tie_break  1301 non-null    float64\n",
      " 28  period_4_tie_break  0 non-null       object \n",
      " 29  period_5_tie_break  0 non-null       object \n",
      " 30  normal_time         0 non-null       object \n",
      "dtypes: float64(15), int64(1), object(15)\n",
      "memory usage: 28.4+ MB\n"
     ]
    }
   ],
   "source": [
    "import pandas as pd\n",
    "df_to_load = [pd.read_parquet(file) for file in files_to_load]\n",
    "df_loaded = pd.concat(df_to_load, ignore_index=True)\n",
    "df_loaded.info()"
   ]
  },
  {
   "cell_type": "code",
   "execution_count": 21,
   "id": "f39b1e01",
   "metadata": {},
   "outputs": [
    {
     "data": {
      "text/plain": [
       "2479"
      ]
     },
     "execution_count": 21,
     "metadata": {},
     "output_type": "execute_result"
    }
   ],
   "source": [
    "All_Players=pd.concat([df_loaded[\"player_id\"],df_loaded_away[\"player_id\"]],axis=0)\n",
    "All_Players.nunique()"
   ]
  },
  {
   "cell_type": "code",
   "execution_count": 19,
   "id": "1daeafde",
   "metadata": {},
   "outputs": [
    {
     "name": "stdout",
     "output_type": "stream",
     "text": [
      "The number of tennis players in the dataset is:  2480\n"
     ]
    }
   ],
   "source": [
    "All_Players=pd.concat([df_loaded[\"player_id\"],df_loaded_away[\"player_id\"]],axis=0)\n",
    "print(\"The number of tennis players in the dataset is: \", len(All_Players.unique()))"
   ]
  },
  {
   "cell_type": "markdown",
   "id": "fa2c6215",
   "metadata": {},
   "source": [
    "question_2"
   ]
  },
  {
   "cell_type": "code",
   "execution_count": 19,
   "id": "eee1df4b",
   "metadata": {},
   "outputs": [
    {
     "data": {
      "text/plain": [
       "np.float64(1.8230601916657696)"
      ]
     },
     "execution_count": 19,
     "metadata": {},
     "output_type": "execute_result"
    }
   ],
   "source": [
    "df_loaded['height'].dropna().mean()"
   ]
  },
  {
   "cell_type": "code",
   "execution_count": 22,
   "id": "398c1820",
   "metadata": {},
   "outputs": [
    {
     "name": "stdout",
     "output_type": "stream",
     "text": [
      "Average height of the players is:  1.822385138129709\n"
     ]
    }
   ],
   "source": [
    "Away_team_height=df_loaded_away[\"height\"].mean()\n",
    "Inhome_team_height=df_loaded[\"height\"].mean()\n",
    "All_Players_height=(Away_team_height + Inhome_team_height) / 2  \n",
    "print(\"Average height of the players is: \", All_Players_height)"
   ]
  }
 ],
 "metadata": {
  "kernelspec": {
   "display_name": "Python 3",
   "language": "python",
   "name": "python3"
  },
  "language_info": {
   "codemirror_mode": {
    "name": "ipython",
    "version": 3
   },
   "file_extension": ".py",
   "mimetype": "text/x-python",
   "name": "python",
   "nbconvert_exporter": "python",
   "pygments_lexer": "ipython3",
   "version": "3.13.5"
  }
 },
 "nbformat": 4,
 "nbformat_minor": 5
}
