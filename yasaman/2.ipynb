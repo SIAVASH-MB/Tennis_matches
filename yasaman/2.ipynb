{
 "cells": [
  {
   "cell_type": "code",
   "execution_count": 1,
   "id": "903a7751",
   "metadata": {},
   "outputs": [
    {
     "name": "stderr",
     "output_type": "stream",
     "text": [
      "C:\\Users\\lavan_computer\\AppData\\Local\\Temp\\ipykernel_6716\\2525717940.py:20: FutureWarning: The behavior of DataFrame concatenation with empty or all-NA entries is deprecated. In a future version, this will no longer exclude empty or all-NA columns when determining the result dtypes. To retain the old behavior, exclude the relevant entries before the concat operation.\n",
      "  df_team_info = pd.concat(df_team_info, ignore_index=True)\n"
     ]
    }
   ],
   "source": [
    "#loading the whole team_info (home_team + away_team)\n",
    "from glob import glob\n",
    "import pandas as pd\n",
    "# Find all directories under tennis_data/\n",
    "date_folders = glob('tennis_data/*')\n",
    "columns_to_load = ['height']\n",
    "\n",
    "# Create an empty list to store all files\n",
    "files_to_load = []\n",
    "# Loop through each date folder and load .parquet files\n",
    "for folder in date_folders:\n",
    "    files_to_load.extend(\n",
    "    [f for f in glob(f'{folder}/data/raw/raw_match_parquet/home_team*.parquet') if '_score' not in f]\n",
    "    )\n",
    "    files_to_load.extend(\n",
    "        [f for f in glob(f'{folder}/data/raw/raw_match_parquet/away_team*.parquet') if '_score' not in f]\n",
    "    )\n",
    "\n",
    "df_team_info = [pd.read_parquet(file, columns=columns_to_load) for file in files_to_load]\n",
    "df_team_info = pd.concat(df_team_info, ignore_index=True)\n"
   ]
  },
  {
   "cell_type": "code",
   "execution_count": 7,
   "id": "59bf1614",
   "metadata": {},
   "outputs": [
    {
     "name": "stdout",
     "output_type": "stream",
     "text": [
      "The average height of the players is: 1.8230601916657696\n"
     ]
    }
   ],
   "source": [
    "#What is the average height of the players? \n",
    "print(f'The average height of the players is: {df_team_info['height'].dropna().mean()}')"
   ]
  }
 ],
 "metadata": {
  "kernelspec": {
   "display_name": "Python 3",
   "language": "python",
   "name": "python3"
  },
  "language_info": {
   "codemirror_mode": {
    "name": "ipython",
    "version": 3
   },
   "file_extension": ".py",
   "mimetype": "text/x-python",
   "name": "python",
   "nbconvert_exporter": "python",
   "pygments_lexer": "ipython3",
   "version": "3.13.5"
  }
 },
 "nbformat": 4,
 "nbformat_minor": 5
}
