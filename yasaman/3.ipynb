{
 "cells": [
  {
   "cell_type": "code",
   "execution_count": 1,
   "id": "678d91f6",
   "metadata": {},
   "outputs": [],
   "source": [
    "#Match_home_team_info table\n",
    "\n",
    "from glob import glob\n",
    "import pandas as pd\n",
    "\n",
    "# Find all directories under tennis_data/\n",
    "date_folders = glob('tennis_data/*')\n",
    "column_home= ['match_id','name']\n",
    "\n",
    "# Create an empty list to store all files\n",
    "files_home= []\n",
    "# Loop through each date folder and load .parquet files\n",
    "for folder in date_folders:\n",
    "    files_home.extend(\n",
    "    [f for f in glob(f'{folder}/data/raw/raw_match_parquet/home_team*.parquet') if '_score' not in f]\n",
    "    )\n",
    "df_home_team_info = [pd.read_parquet(file, columns=column_home) for file in files_home]\n",
    "df_home_team_info = pd.concat(df_home_team_info, ignore_index=True)"
   ]
  },
  {
   "cell_type": "code",
   "execution_count": 2,
   "id": "f00bba85",
   "metadata": {},
   "outputs": [],
   "source": [
    "#match_away_team_info table\n",
    "column_away= ['match_id','name']\n",
    "files_away= []\n",
    "# Loop through each date folder and load .parquet files\n",
    "for folder in date_folders:\n",
    "    files_away.extend(\n",
    "    [f for f in glob(f'{folder}/data/raw/raw_match_parquet/away_team*.parquet') if '_score' not in f]\n",
    "    )\n",
    "df_away_team_info = [pd.read_parquet(file, columns=column_away) for file in files_away]\n",
    "df_away_team_info = pd.concat(df_away_team_info, ignore_index=True)"
   ]
  },
  {
   "cell_type": "code",
   "execution_count": 3,
   "id": "aa95e1b6",
   "metadata": {},
   "outputs": [],
   "source": [
    "# Match_event_info table\n",
    "files_event = []\n",
    "column_event= ['match_id','winner_code']\n",
    "# Loop through each date folder and load .parquet files\n",
    "for folder in date_folders:\n",
    "    files_event.extend(\n",
    "        glob(f'{folder}/data/raw/raw_match_parquet/event*.parquet')\n",
    "    )\n",
    "event_info = [pd.read_parquet(file, columns=column_event) for file in files_event]\n",
    "event_info = pd.concat(event_info, ignore_index=True)"
   ]
  },
  {
   "cell_type": "code",
   "execution_count": 5,
   "id": "9924cda0",
   "metadata": {},
   "outputs": [
    {
     "name": "stdout",
     "output_type": "stream",
     "text": [
      "The player with the highest number of wins is Aguilar Cardozo J. with 220 wins.\n"
     ]
    }
   ],
   "source": [
    "#Which player has the highest number of wins? \n",
    "\n",
    "df_home = event_info.merge(df_home_team_info, on='match_id',how='left')\n",
    "df = event_info.merge(df_home, on='match_id',how='left')\n",
    "df = df.drop(['winner_code_x'],axis=1)\n",
    "df=df.rename(columns={'winner_code_y':'winner_code'})\n",
    "#count home_team wins\n",
    "home=df[df['winner_code']==1].groupby(['name','winner_code'])['winner_code'].count()\n",
    "#count away_team wins\n",
    "away=df[df['winner_code']==2].groupby(['name','winner_code'])['winner_code'].count()\n",
    "#player who wons the most in all matches\n",
    "total_wins = home.add(away, fill_value=0)\n",
    "top_player = total_wins.idxmax()\n",
    "max_wins = total_wins.max()\n",
    "\n",
    "print(f\"The player with the highest number of wins is {top_player[0]} with {int(max_wins)} wins.\")"
   ]
  }
 ],
 "metadata": {
  "kernelspec": {
   "display_name": "Python 3",
   "language": "python",
   "name": "python3"
  },
  "language_info": {
   "codemirror_mode": {
    "name": "ipython",
    "version": 3
   },
   "file_extension": ".py",
   "mimetype": "text/x-python",
   "name": "python",
   "nbconvert_exporter": "python",
   "pygments_lexer": "ipython3",
   "version": "3.13.5"
  }
 },
 "nbformat": 4,
 "nbformat_minor": 5
}
