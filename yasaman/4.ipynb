{
 "cells": [
  {
   "cell_type": "code",
   "execution_count": 1,
   "id": "92e76093",
   "metadata": {},
   "outputs": [],
   "source": [
    "from glob import glob\n",
    "import pandas as pd\n",
    "# Find all directories under tennis_data/\n",
    "date_folders = glob('tennis_data/*')\n",
    "\n",
    "# Create an empty list to store all files\n",
    "files_to_load_time = []\n",
    "\n",
    "# Loop through each date folder and load .parquet files\n",
    "for folder in date_folders:\n",
    "    files_to_load_time.extend(\n",
    "        glob(f'{folder}/data/raw/raw_match_parquet/time*.parquet')\n",
    "    )\n",
    "df_time = [pd.read_parquet(file) for file in files_to_load_time]\n",
    "df_time = pd.concat(df_time, ignore_index=True)"
   ]
  },
  {
   "cell_type": "code",
   "execution_count": 3,
   "id": "8e46e50d",
   "metadata": {},
   "outputs": [
    {
     "name": "stdout",
     "output_type": "stream",
     "text": [
      "longest match_id: 12063611 and its duration: 1347160 \n"
     ]
    }
   ],
   "source": [
    "#What is the longest match recorded in terms of duration? \n",
    "total_time = df_time.groupby('match_id')[['period_1','period_2','period_3','period_4','period_5']].sum()\n",
    "print(f\"longest match_id: {total_time.sum(axis=1).idxmax()} and its duration: {total_time.sum(axis=1).max()} \")\n"
   ]
  }
 ],
 "metadata": {
  "kernelspec": {
   "display_name": "Python 3",
   "language": "python",
   "name": "python3"
  },
  "language_info": {
   "codemirror_mode": {
    "name": "ipython",
    "version": 3
   },
   "file_extension": ".py",
   "mimetype": "text/x-python",
   "name": "python",
   "nbconvert_exporter": "python",
   "pygments_lexer": "ipython3",
   "version": "3.13.5"
  }
 },
 "nbformat": 4,
 "nbformat_minor": 5
}
