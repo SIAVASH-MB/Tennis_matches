{
 "cells": [
  {
   "cell_type": "code",
   "execution_count": 1,
   "id": "92e76093",
   "metadata": {},
   "outputs": [
    {
     "name": "stdout",
     "output_type": "stream",
     "text": [
      "Total files loaded: 35671\n"
     ]
    },
    {
     "data": {
      "text/html": [
       "<div>\n",
       "<style scoped>\n",
       "    .dataframe tbody tr th:only-of-type {\n",
       "        vertical-align: middle;\n",
       "    }\n",
       "\n",
       "    .dataframe tbody tr th {\n",
       "        vertical-align: top;\n",
       "    }\n",
       "\n",
       "    .dataframe thead th {\n",
       "        text-align: right;\n",
       "    }\n",
       "</style>\n",
       "<table border=\"1\" class=\"dataframe\">\n",
       "  <thead>\n",
       "    <tr style=\"text-align: right;\">\n",
       "      <th></th>\n",
       "      <th>match_id</th>\n",
       "      <th>period_1</th>\n",
       "      <th>period_2</th>\n",
       "      <th>period_3</th>\n",
       "      <th>period_4</th>\n",
       "      <th>period_5</th>\n",
       "      <th>current_period_start_timestamp</th>\n",
       "    </tr>\n",
       "  </thead>\n",
       "  <tbody>\n",
       "    <tr>\n",
       "      <th>19167</th>\n",
       "      <td>12143192</td>\n",
       "      <td>None</td>\n",
       "      <td>None</td>\n",
       "      <td>None</td>\n",
       "      <td>None</td>\n",
       "      <td>None</td>\n",
       "      <td>None</td>\n",
       "    </tr>\n",
       "    <tr>\n",
       "      <th>7526</th>\n",
       "      <td>12069399</td>\n",
       "      <td>2717</td>\n",
       "      <td>2653</td>\n",
       "      <td>2465</td>\n",
       "      <td>None</td>\n",
       "      <td>None</td>\n",
       "      <td>1708005034</td>\n",
       "    </tr>\n",
       "    <tr>\n",
       "      <th>34946</th>\n",
       "      <td>12206039</td>\n",
       "      <td>2751</td>\n",
       "      <td>3550</td>\n",
       "      <td>None</td>\n",
       "      <td>None</td>\n",
       "      <td>None</td>\n",
       "      <td>1711804231</td>\n",
       "    </tr>\n",
       "    <tr>\n",
       "      <th>33199</th>\n",
       "      <td>12195286</td>\n",
       "      <td>3290</td>\n",
       "      <td>2113</td>\n",
       "      <td>2954</td>\n",
       "      <td>None</td>\n",
       "      <td>None</td>\n",
       "      <td>1711535874</td>\n",
       "    </tr>\n",
       "    <tr>\n",
       "      <th>24675</th>\n",
       "      <td>12152607</td>\n",
       "      <td>2469</td>\n",
       "      <td>2500</td>\n",
       "      <td>None</td>\n",
       "      <td>None</td>\n",
       "      <td>None</td>\n",
       "      <td>1710339433</td>\n",
       "    </tr>\n",
       "  </tbody>\n",
       "</table>\n",
       "</div>"
      ],
      "text/plain": [
       "       match_id period_1 period_2 period_3 period_4 period_5  \\\n",
       "19167  12143192     None     None     None     None     None   \n",
       "7526   12069399     2717     2653     2465     None     None   \n",
       "34946  12206039     2751     3550     None     None     None   \n",
       "33199  12195286     3290     2113     2954     None     None   \n",
       "24675  12152607     2469     2500     None     None     None   \n",
       "\n",
       "      current_period_start_timestamp  \n",
       "19167                           None  \n",
       "7526                      1708005034  \n",
       "34946                     1711804231  \n",
       "33199                     1711535874  \n",
       "24675                     1710339433  "
      ]
     },
     "execution_count": 1,
     "metadata": {},
     "output_type": "execute_result"
    }
   ],
   "source": [
    "from glob import glob\n",
    "import pandas as pd\n",
    "# Find all directories under tennis_data/\n",
    "date_folders = glob('tennis_data/*')\n",
    "\n",
    "# Create an empty list to store all files\n",
    "files_to_load_time = []\n",
    "\n",
    "# Loop through each date folder and load .parquet files\n",
    "for folder in date_folders:\n",
    "    files_to_load_time.extend(\n",
    "        glob(f'{folder}/data/raw/raw_match_parquet/time*.parquet')\n",
    "    )\n",
    "print(f\"Total files loaded: {len(files_to_load_time)}\") \n",
    "df_time = [pd.read_parquet(file) for file in files_to_load_time]\n",
    "df_time = pd.concat(df_time, ignore_index=True)\n",
    "df_time.sample(5)"
   ]
  },
  {
   "cell_type": "code",
   "execution_count": 5,
   "id": "8e46e50d",
   "metadata": {},
   "outputs": [
    {
     "name": "stdout",
     "output_type": "stream",
     "text": [
      "12063611\n"
     ]
    }
   ],
   "source": [
    "df_time['total_time'] = df_time[['period_1','period_2','period_3','period_4','period_5']].sum(axis=1)\n",
    "longest_match = df_time.loc[df_time['total_time'].idxmax()]\n",
    "print(longest_match['match_id'])"
   ]
  },
  {
   "cell_type": "markdown",
   "id": "0d003271",
   "metadata": {},
   "source": [
    "question_5"
   ]
  },
  {
   "cell_type": "code",
   "execution_count": 7,
   "id": "a6e4ed1d",
   "metadata": {},
   "outputs": [
    {
     "data": {
      "text/plain": [
       "np.int64(2)"
      ]
     },
     "execution_count": 7,
     "metadata": {},
     "output_type": "execute_result"
    }
   ],
   "source": [
    "df_time[['period_1','period_2','period_3','period_4','period_5']].notna().sum(axis=1).mode()[0]"
   ]
  },
  {
   "cell_type": "code",
   "execution_count": 12,
   "id": "dd23e8cb",
   "metadata": {},
   "outputs": [
    {
     "name": "stdout",
     "output_type": "stream",
     "text": [
      "Total files loaded: 22724\n"
     ]
    },
    {
     "data": {
      "text/html": [
       "<div>\n",
       "<style scoped>\n",
       "    .dataframe tbody tr th:only-of-type {\n",
       "        vertical-align: middle;\n",
       "    }\n",
       "\n",
       "    .dataframe tbody tr th {\n",
       "        vertical-align: top;\n",
       "    }\n",
       "\n",
       "    .dataframe thead th {\n",
       "        text-align: right;\n",
       "    }\n",
       "</style>\n",
       "<table border=\"1\" class=\"dataframe\">\n",
       "  <thead>\n",
       "    <tr style=\"text-align: right;\">\n",
       "      <th></th>\n",
       "      <th>match_id</th>\n",
       "      <th>set_num</th>\n",
       "      <th>game_num</th>\n",
       "      <th>value</th>\n",
       "      <th>break_occurred</th>\n",
       "    </tr>\n",
       "  </thead>\n",
       "  <tbody>\n",
       "    <tr>\n",
       "      <th>368447</th>\n",
       "      <td>12170866</td>\n",
       "      <td>3</td>\n",
       "      <td>2</td>\n",
       "      <td>-28.00</td>\n",
       "      <td>True</td>\n",
       "    </tr>\n",
       "    <tr>\n",
       "      <th>411324</th>\n",
       "      <td>12185562</td>\n",
       "      <td>1</td>\n",
       "      <td>13</td>\n",
       "      <td>90.00</td>\n",
       "      <td>False</td>\n",
       "    </tr>\n",
       "    <tr>\n",
       "      <th>381374</th>\n",
       "      <td>12172780</td>\n",
       "      <td>1</td>\n",
       "      <td>4</td>\n",
       "      <td>12.40</td>\n",
       "      <td>True</td>\n",
       "    </tr>\n",
       "    <tr>\n",
       "      <th>337679</th>\n",
       "      <td>12158712</td>\n",
       "      <td>1</td>\n",
       "      <td>11</td>\n",
       "      <td>-23.02</td>\n",
       "      <td>False</td>\n",
       "    </tr>\n",
       "    <tr>\n",
       "      <th>248130</th>\n",
       "      <td>12121868</td>\n",
       "      <td>1</td>\n",
       "      <td>8</td>\n",
       "      <td>-66.00</td>\n",
       "      <td>False</td>\n",
       "    </tr>\n",
       "  </tbody>\n",
       "</table>\n",
       "</div>"
      ],
      "text/plain": [
       "        match_id  set_num  game_num  value  break_occurred\n",
       "368447  12170866        3         2 -28.00            True\n",
       "411324  12185562        1        13  90.00           False\n",
       "381374  12172780        1         4  12.40            True\n",
       "337679  12158712        1        11 -23.02           False\n",
       "248130  12121868        1         8 -66.00           False"
      ]
     },
     "execution_count": 12,
     "metadata": {},
     "output_type": "execute_result"
    }
   ],
   "source": [
    "\n",
    "# Create an empty list to store all files\n",
    "files_to_load_power = []\n",
    "\n",
    "# Loop through each date folder and load .parquet files\n",
    "for folder in date_folders:\n",
    "    files_to_load_power.extend(\n",
    "        glob(f'{folder}/data/raw/raw_tennis_power_parquet/power*.parquet')\n",
    "    )\n",
    "print(f\"Total files loaded: {len(files_to_load_power)}\") \n",
    "df_power = [pd.read_parquet(file) for file in files_to_load_power]\n",
    "df_power = pd.concat(df_power, ignore_index=True)\n",
    "df_power.sample(5)"
   ]
  },
  {
   "cell_type": "code",
   "execution_count": 14,
   "id": "082c1f1f",
   "metadata": {},
   "outputs": [
    {
     "name": "stdout",
     "output_type": "stream",
     "text": [
      "Most played sets in a match:  1\n",
      "Maximum sets played in a match:  3\n",
      "Top 10 most played sets in matches:\n",
      " set_num\n",
      "1    210480\n",
      "2    203910\n",
      "3     55287\n",
      "Name: count, dtype: int64\n"
     ]
    }
   ],
   "source": [
    "most_played=df_power[\"set_num\"].mode()  # This will give the most common number of sets played\n",
    "print(\"Most played sets in a match: \", most_played[0])  # mode returns a Series, take the first element\n",
    "\n",
    "max_sets = df_power[\"set_num\"].max()  # This will give the maximum number of sets played in any match\n",
    "print(\"Maximum sets played in a match: \", max_sets)\n",
    "\n",
    "often_played = df_power[\"set_num\"].value_counts().head(10)  # This will give the top 10 most played sets\n",
    "print(\"Top 10 most played sets in matches:\\n\", often_played)"
   ]
  }
 ],
 "metadata": {
  "kernelspec": {
   "display_name": "Python 3",
   "language": "python",
   "name": "python3"
  },
  "language_info": {
   "codemirror_mode": {
    "name": "ipython",
    "version": 3
   },
   "file_extension": ".py",
   "mimetype": "text/x-python",
   "name": "python",
   "nbconvert_exporter": "python",
   "pygments_lexer": "ipython3",
   "version": "3.13.5"
  }
 },
 "nbformat": 4,
 "nbformat_minor": 5
}
