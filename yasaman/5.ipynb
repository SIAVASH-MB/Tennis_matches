{
 "cells": [
  {
   "cell_type": "code",
   "execution_count": 2,
   "id": "a3f05590",
   "metadata": {},
   "outputs": [],
   "source": [
    "#power_info table\n",
    "\n",
    "from glob import glob\n",
    "import pandas as pd\n",
    "\n",
    "# Find all directories under tennis_data/\n",
    "date_folders = glob('tennis_data/*')\n",
    "column_power= ['match_id','set_num']\n",
    "\n",
    "# Create an empty list to store all files\n",
    "files_power= []\n",
    "# Loop through each date folder and load .parquet files\n",
    "for folder in date_folders:\n",
    "    files_power.extend(\n",
    "    [f for f in glob(f'{folder}/data/raw/raw_tennis_power_parquet/power*.parquet') if '_score' not in f]\n",
    "    )\n",
    "df_power = [pd.read_parquet(file, columns=column_power) for file in files_power]\n",
    "df_power = pd.concat(df_power, ignore_index=True)"
   ]
  },
  {
   "cell_type": "code",
   "execution_count": 2,
   "id": "a7a4bb30",
   "metadata": {},
   "outputs": [
    {
     "name": "stdout",
     "output_type": "stream",
     "text": [
      "set_1\n"
     ]
    }
   ],
   "source": [
    "#How many sets are typically played in a tennis match? \n",
    "print(f'set_{df_power['set_num'].value_counts().idxmax()}')\n"
   ]
  },
  {
   "cell_type": "code",
   "execution_count": 3,
   "id": "bdc0a885",
   "metadata": {},
   "outputs": [
    {
     "data": {
      "text/plain": [
       "0    1\n",
       "Name: set_num, dtype: int64"
      ]
     },
     "execution_count": 3,
     "metadata": {},
     "output_type": "execute_result"
    }
   ],
   "source": [
    "#How many sets are typically played in a tennis match? \n",
    "df_power['set_num'].mode()"
   ]
  }
 ],
 "metadata": {
  "kernelspec": {
   "display_name": "Python 3",
   "language": "python",
   "name": "python3"
  },
  "language_info": {
   "codemirror_mode": {
    "name": "ipython",
    "version": 3
   },
   "file_extension": ".py",
   "mimetype": "text/x-python",
   "name": "python",
   "nbconvert_exporter": "python",
   "pygments_lexer": "ipython3",
   "version": "3.13.5"
  }
 },
 "nbformat": 4,
 "nbformat_minor": 5
}
