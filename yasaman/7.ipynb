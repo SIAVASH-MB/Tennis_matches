{
 "cells": [
  {
   "cell_type": "code",
   "execution_count": 1,
   "id": "a02212dc",
   "metadata": {},
   "outputs": [
    {
     "name": "stdout",
     "output_type": "stream",
     "text": [
      "Total files loaded: 23291\n"
     ]
    },
    {
     "data": {
      "text/html": [
       "<div>\n",
       "<style scoped>\n",
       "    .dataframe tbody tr th:only-of-type {\n",
       "        vertical-align: middle;\n",
       "    }\n",
       "\n",
       "    .dataframe tbody tr th {\n",
       "        vertical-align: top;\n",
       "    }\n",
       "\n",
       "    .dataframe thead th {\n",
       "        text-align: right;\n",
       "    }\n",
       "</style>\n",
       "<table border=\"1\" class=\"dataframe\">\n",
       "  <thead>\n",
       "    <tr style=\"text-align: right;\">\n",
       "      <th></th>\n",
       "      <th>match_id</th>\n",
       "      <th>period</th>\n",
       "      <th>statistic_category_name</th>\n",
       "      <th>statistic_name</th>\n",
       "      <th>home_stat</th>\n",
       "      <th>away_stat</th>\n",
       "      <th>compare_code</th>\n",
       "      <th>statistic_type</th>\n",
       "      <th>value_type</th>\n",
       "      <th>home_value</th>\n",
       "      <th>away_value</th>\n",
       "      <th>home_total</th>\n",
       "      <th>away_total</th>\n",
       "    </tr>\n",
       "  </thead>\n",
       "  <tbody>\n",
       "    <tr>\n",
       "      <th>1048597</th>\n",
       "      <td>12170820</td>\n",
       "      <td>1ST</td>\n",
       "      <td>service</td>\n",
       "      <td>break_points_saved</td>\n",
       "      <td>2/2 (100%)</td>\n",
       "      <td>4/6 (66%)</td>\n",
       "      <td>1</td>\n",
       "      <td>positive</td>\n",
       "      <td>team</td>\n",
       "      <td>2</td>\n",
       "      <td>4</td>\n",
       "      <td>2.0</td>\n",
       "      <td>6.0</td>\n",
       "    </tr>\n",
       "    <tr>\n",
       "      <th>809009</th>\n",
       "      <td>12109859</td>\n",
       "      <td>ALL</td>\n",
       "      <td>points</td>\n",
       "      <td>total</td>\n",
       "      <td>37</td>\n",
       "      <td>56</td>\n",
       "      <td>2</td>\n",
       "      <td>positive</td>\n",
       "      <td>event</td>\n",
       "      <td>70</td>\n",
       "      <td>14</td>\n",
       "      <td>NaN</td>\n",
       "      <td>NaN</td>\n",
       "    </tr>\n",
       "    <tr>\n",
       "      <th>586268</th>\n",
       "      <td>12109890</td>\n",
       "      <td>1ST</td>\n",
       "      <td>service</td>\n",
       "      <td>second_serve_points</td>\n",
       "      <td>6/10 (60%)</td>\n",
       "      <td>6/9 (67%)</td>\n",
       "      <td>2</td>\n",
       "      <td>positive</td>\n",
       "      <td>team</td>\n",
       "      <td>6</td>\n",
       "      <td>6</td>\n",
       "      <td>10.0</td>\n",
       "      <td>9.0</td>\n",
       "    </tr>\n",
       "    <tr>\n",
       "      <th>1012835</th>\n",
       "      <td>12110074</td>\n",
       "      <td>ALL</td>\n",
       "      <td>points</td>\n",
       "      <td>receiver_points_won</td>\n",
       "      <td>25</td>\n",
       "      <td>12</td>\n",
       "      <td>1</td>\n",
       "      <td>positive</td>\n",
       "      <td>event</td>\n",
       "      <td>25</td>\n",
       "      <td>12</td>\n",
       "      <td>NaN</td>\n",
       "      <td>NaN</td>\n",
       "    </tr>\n",
       "    <tr>\n",
       "      <th>568386</th>\n",
       "      <td>12106270</td>\n",
       "      <td>1ST</td>\n",
       "      <td>return</td>\n",
       "      <td>second_serve_return_points</td>\n",
       "      <td>7/12 (58%)</td>\n",
       "      <td>8/11 (72%)</td>\n",
       "      <td>2</td>\n",
       "      <td>positive</td>\n",
       "      <td>team</td>\n",
       "      <td>7</td>\n",
       "      <td>8</td>\n",
       "      <td>12.0</td>\n",
       "      <td>11.0</td>\n",
       "    </tr>\n",
       "  </tbody>\n",
       "</table>\n",
       "</div>"
      ],
      "text/plain": [
       "         match_id period statistic_category_name              statistic_name  \\\n",
       "1048597  12170820    1ST                 service          break_points_saved   \n",
       "809009   12109859    ALL                  points                       total   \n",
       "586268   12109890    1ST                 service         second_serve_points   \n",
       "1012835  12110074    ALL                  points         receiver_points_won   \n",
       "568386   12106270    1ST                  return  second_serve_return_points   \n",
       "\n",
       "          home_stat   away_stat  compare_code statistic_type value_type  \\\n",
       "1048597  2/2 (100%)   4/6 (66%)             1       positive       team   \n",
       "809009           37          56             2       positive      event   \n",
       "586268   6/10 (60%)   6/9 (67%)             2       positive       team   \n",
       "1012835          25          12             1       positive      event   \n",
       "568386   7/12 (58%)  8/11 (72%)             2       positive       team   \n",
       "\n",
       "         home_value  away_value  home_total  away_total  \n",
       "1048597           2           4         2.0         6.0  \n",
       "809009           70          14         NaN         NaN  \n",
       "586268            6           6        10.0         9.0  \n",
       "1012835          25          12         NaN         NaN  \n",
       "568386            7           8        12.0        11.0  "
      ]
     },
     "execution_count": 1,
     "metadata": {},
     "output_type": "execute_result"
    }
   ],
   "source": [
    "\n",
    "from glob import glob\n",
    "import pandas as pd\n",
    "# Find all directories under tennis_data/\n",
    "date_folders = glob('tennis_data/*')\n",
    "\n",
    "# Create an empty list to store all files\n",
    "files_to_load_period = []\n",
    "\n",
    "# Loop through each date folder and load .parquet files\n",
    "for folder in date_folders:\n",
    "    files_to_load_period.extend(\n",
    "        glob(f'{folder}/data/raw/raw_statistics_parquet/*.parquet')\n",
    "    )\n",
    "print(f\"Total files loaded: {len(files_to_load_period)}\") \n",
    "df_period = [pd.read_parquet(file) for file in files_to_load_period]\n",
    "df_period = pd.concat(df_period, ignore_index=True)\n",
    "df_period.sample(5)"
   ]
  },
  {
   "cell_type": "code",
   "execution_count": 65,
   "id": "5a2293d6",
   "metadata": {},
   "outputs": [
    {
     "name": "stderr",
     "output_type": "stream",
     "text": [
      "C:\\Users\\lavan_computer\\AppData\\Local\\Temp\\ipykernel_7348\\1241054630.py:2: SettingWithCopyWarning: \n",
      "A value is trying to be set on a copy of a slice from a DataFrame.\n",
      "Try using .loc[row_indexer,col_indexer] = value instead\n",
      "\n",
      "See the caveats in the documentation: https://pandas.pydata.org/pandas-docs/stable/user_guide/indexing.html#returning-a-view-versus-a-copy\n",
      "  aces['total_aces'] = aces['home_value'] + aces['away_value']\n"
     ]
    },
    {
     "data": {
      "text/plain": [
       "np.float64(21.657388708402845)"
      ]
     },
     "execution_count": 65,
     "metadata": {},
     "output_type": "execute_result"
    }
   ],
   "source": [
    "aces=df_period[df_period['statistic_name']=='aces']\n",
    "aces['total_aces'] = aces['home_value'] + aces['away_value']\n",
    "aces_per_match = aces.groupby('match_id')['total_aces'].sum()\n",
    "aces_per_match.mean()\n",
    "\n",
    "\n"
   ]
  },
  {
   "cell_type": "code",
   "execution_count": null,
   "id": "93bdc448",
   "metadata": {},
   "outputs": [
    {
     "data": {
      "text/plain": [
       "np.float64(6.6956712617437875)"
      ]
     },
     "execution_count": 98,
     "metadata": {},
     "output_type": "execute_result"
    }
   ],
   "source": [
    "#my final solution\n",
    "aces=df_period['statistic_name']=='aces'\n",
    "mean_aces=df_period[aces].groupby('match_id')['statistic_name'].count()\n",
    "mean_aces.mean()"
   ]
  },
  {
   "cell_type": "code",
   "execution_count": 100,
   "id": "5f1080ff",
   "metadata": {},
   "outputs": [
    {
     "name": "stdout",
     "output_type": "stream",
     "text": [
      "Average number of aces per match: 6.693320459931537\n"
     ]
    }
   ],
   "source": [
    "import pandas as pddf_period\n",
    "Match_count=df_period[\"match_id\"].nunique()  # Count unique matches\n",
    "Ace_count = df_period[\"statistic_name\"].str.contains(\"ace\", case=False, na=False).sum()  # Count aces\n",
    "Average_aces_per_match = Ace_count / Match_count if Match_count > 0 else 0  # Calculate average\n",
    "print(f\"Average number of aces per match: {Average_aces_per_match}\")"
   ]
  }
 ],
 "metadata": {
  "kernelspec": {
   "display_name": "Python 3",
   "language": "python",
   "name": "python3"
  },
  "language_info": {
   "codemirror_mode": {
    "name": "ipython",
    "version": 3
   },
   "file_extension": ".py",
   "mimetype": "text/x-python",
   "name": "python",
   "nbconvert_exporter": "python",
   "pygments_lexer": "ipython3",
   "version": "3.13.5"
  }
 },
 "nbformat": 4,
 "nbformat_minor": 5
}
