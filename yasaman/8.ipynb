{
 "cells": [
  {
   "cell_type": "code",
   "execution_count": 6,
   "id": "b2ee2d11",
   "metadata": {},
   "outputs": [],
   "source": [
    "#period_info table\n",
    "from glob import glob\n",
    "import pandas as pd\n",
    "# Find all directories under tennis_data/\n",
    "date_folders = glob('tennis_data/*')\n",
    "\n",
    "column_home= ['match_id','statistic_name', 'home_value', 'away_value']\n",
    "files_to_load_period = []\n",
    "\n",
    "# Loop through each date folder and load .parquet files\n",
    "for folder in date_folders:\n",
    "    files_to_load_period.extend(\n",
    "        glob(f'{folder}/data/raw/raw_statistics_parquet/*.parquet')\n",
    "    )\n",
    "df_period = [pd.read_parquet(file, columns=column_home) for file in files_to_load_period]\n",
    "df_period = pd.concat(df_period, ignore_index=True)"
   ]
  },
  {
   "cell_type": "code",
   "execution_count": 2,
   "id": "f11b4bb0",
   "metadata": {},
   "outputs": [],
   "source": [
    "#matchhometeaminfo tabe\n",
    "column_home= ['match_id','gender']\n",
    "\n",
    "# Create an empty list to store all files\n",
    "files_home= []\n",
    "# Loop through each date folder and load .parquet files\n",
    "for folder in date_folders:\n",
    "    files_home.extend(\n",
    "    [f for f in glob(f'{folder}/data/raw/raw_match_parquet/home_team*.parquet') if '_score' not in f]\n",
    "    )\n",
    "df_home_team_info = [pd.read_parquet(file, columns=column_home) for file in files_home]\n",
    "df_home_team_info = pd.concat(df_home_team_info, ignore_index=True)"
   ]
  },
  {
   "cell_type": "code",
   "execution_count": 3,
   "id": "f4d76b8b",
   "metadata": {},
   "outputs": [],
   "source": [
    "#match_away_team_info table\n",
    "column_away= ['match_id','gender']\n",
    "files_away= []\n",
    "# Loop through each date folder and load .parquet files\n",
    "for folder in date_folders:\n",
    "    files_away.extend(\n",
    "    [f for f in glob(f'{folder}/data/raw/raw_match_parquet/away_team*.parquet') if '_score' not in f]\n",
    "    )\n",
    "df_away_team_info = [pd.read_parquet(file, columns=column_away) for file in files_away]\n",
    "df_away_team_info = pd.concat(df_away_team_info, ignore_index=True)"
   ]
  },
  {
   "cell_type": "code",
   "execution_count": 11,
   "id": "ae1641e0",
   "metadata": {},
   "outputs": [
    {
     "data": {
      "text/plain": [
       "gender_home\n",
       "F    534385\n",
       "M    546379\n",
       "dtype: int64"
      ]
     },
     "execution_count": 11,
     "metadata": {},
     "output_type": "execute_result"
    }
   ],
   "source": [
    "df_double_faults = df_period[df_period['statistic_name'] == 'double_faults']\n",
    "df = (\n",
    "    df_double_faults\n",
    "    .merge(df_home_team_info[['match_id','gender']], on='match_id', how='left')\n",
    "    .merge(df_away_team_info[['match_id','gender']], on='match_id', how='left', suffixes=('_home','_away'))\n",
    ")\n",
    "home_faults = df.groupby('gender_home')['home_value'].sum()\n",
    "away_faults = df.groupby('gender_away')['away_value'].sum()\n",
    "total_faults = home_faults.add(away_faults, fill_value=0)\n",
    "total_faults"
   ]
  }
 ],
 "metadata": {
  "kernelspec": {
   "display_name": "Python 3",
   "language": "python",
   "name": "python3"
  },
  "language_info": {
   "codemirror_mode": {
    "name": "ipython",
    "version": 3
   },
   "file_extension": ".py",
   "mimetype": "text/x-python",
   "name": "python",
   "nbconvert_exporter": "python",
   "pygments_lexer": "ipython3",
   "version": "3.13.5"
  }
 },
 "nbformat": 4,
 "nbformat_minor": 5
}
