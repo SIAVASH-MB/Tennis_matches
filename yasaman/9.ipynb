{
 "cells": [
  {
   "cell_type": "code",
   "execution_count": 51,
   "id": "273ff9dd",
   "metadata": {},
   "outputs": [],
   "source": [
    "#match_away_team_info table\n",
    "from glob import glob\n",
    "import pandas as pd\n",
    "# Find all directories under tennis_data/\n",
    "date_folders = glob('tennis_data/*')\n",
    "\n",
    "column_away= ['match_id', 'player_id','full_name']\n",
    "files_away= []\n",
    "# Loop through each date folder and load .parquet files\n",
    "for folder in date_folders:\n",
    "    files_away.extend(\n",
    "    [f for f in glob(f'{folder}/data/raw/raw_match_parquet/away_team*.parquet') if '_score' not in f]\n",
    "    )\n",
    "df_away_team_info = [pd.read_parquet(file, columns=column_away) for file in files_away]\n",
    "df_away_team_info = pd.concat(df_away_team_info, ignore_index=True)"
   ]
  },
  {
   "cell_type": "code",
   "execution_count": 52,
   "id": "4cac5a5d",
   "metadata": {},
   "outputs": [],
   "source": [
    "#matchhometeaminfo table\n",
    "column_home= ['match_id', 'player_id', 'full_name']\n",
    "\n",
    "# Create an empty list to store all files\n",
    "files_home= []\n",
    "# Loop through each date folder and load .parquet files\n",
    "for folder in date_folders:\n",
    "    files_home.extend(\n",
    "    [f for f in glob(f'{folder}/data/raw/raw_match_parquet/home_team*.parquet') if '_score' not in f]\n",
    "    )\n",
    "df_home_team_info = [pd.read_parquet(file, columns=column_home) for file in files_home]\n",
    "df_home_team_info = pd.concat(df_home_team_info, ignore_index=True)"
   ]
  },
  {
   "cell_type": "code",
   "execution_count": 53,
   "id": "306b6da8",
   "metadata": {},
   "outputs": [],
   "source": [
    "# Match_event_info table\n",
    "files_event = []\n",
    "column_event= ['match_id','winner_code','start_datetime']\n",
    "# Loop through each date folder and load .parquet files\n",
    "for folder in date_folders:\n",
    "    files_event.extend(\n",
    "        glob(f'{folder}/data/raw/raw_match_parquet/event*.parquet')\n",
    "    )\n",
    "event_info = [pd.read_parquet(file, columns=column_event) for file in files_event]\n",
    "event_info = pd.concat(event_info, ignore_index=True)"
   ]
  },
  {
   "cell_type": "code",
   "execution_count": 4,
   "id": "8e8da81f",
   "metadata": {},
   "outputs": [],
   "source": [
    "tour_info = []\n",
    "\n",
    "# Loop through each date folder and load .parquet files\n",
    "for folder in date_folders:\n",
    "    tour_info.extend(\n",
    "        glob(f'{folder}/data/raw/raw_match_parquet/tournament*.parquet')\n",
    "    )\n",
    "\n",
    "df_tour_info = [pd.read_parquet(file) for file in tour_info]\n",
    "df_tour_info = pd.concat(df_tour_info, ignore_index=True)"
   ]
  },
  {
   "cell_type": "code",
   "execution_count": null,
   "id": "567b4fa9",
   "metadata": {},
   "outputs": [
    {
     "name": "stdout",
     "output_type": "stream",
     "text": [
      "Player: Naw, Hazem (ID: 197446.0) won 7 tournaments in 2024-02.\n"
     ]
    }
   ],
   "source": [
    "import pandas as pd\n",
    "import numpy as np\n",
    "\n",
    "df = (\n",
    "    event_info\n",
    "    .merge(df_tour_info[['match_id', 'tournament_id']], on='match_id')\n",
    "    .merge(df_home_team_info[['match_id', 'player_id', 'full_name']], on='match_id', suffixes=('', '_home'))\n",
    "    .merge(df_away_team_info[['match_id', 'player_id', 'full_name']], on='match_id', suffixes=('_home', '_away'))\n",
    ")\n",
    "\n",
    "# --- 2. Identify the actual winner player_id ---\n",
    "df['winner_id'] = np.where(df['winner_code'] == 1, df['player_id_home'],\n",
    "                           np.where(df['winner_code'] == 2, df['player_id_away'], np.nan))\n",
    "\n",
    "df['winner_name'] = np.where(df['winner_code'] == 1, df['full_name_home'],\n",
    "                             np.where(df['winner_code'] == 2, df['full_name_away'], np.nan))\n",
    "\n",
    "# --- 3. Convert start_datetime to month (using UNIX timestamp in seconds) ---\n",
    "df['start_datetime'] = pd.to_datetime(df['start_datetime'], unit='s', errors='coerce')\n",
    "df['month'] = df['start_datetime'].dt.to_period('M')  # e.g., '2023-07'\n",
    "\n",
    "# --- 4. Count unique tournaments won by each player in each month ---\n",
    "tournament_wins = (\n",
    "    df.groupby(['winner_id', 'winner_name', 'month'])['tournament_id']\n",
    "      .nunique()\n",
    "      .reset_index(name='tournaments_won')\n",
    ")\n",
    "\n",
    "max_row = tournament_wins.loc[tournament_wins['tournaments_won'].idxmax()]\n",
    "\n",
    "print(f\"Player: {max_row['winner_name']} (ID: {max_row['winner_id']}) \"\n",
    "      f\"won {max_row['tournaments_won']} tournaments in {max_row['month']}.\")\n"
   ]
  }
 ],
 "metadata": {
  "kernelspec": {
   "display_name": "Python 3",
   "language": "python",
   "name": "python3"
  },
  "language_info": {
   "codemirror_mode": {
    "name": "ipython",
    "version": 3
   },
   "file_extension": ".py",
   "mimetype": "text/x-python",
   "name": "python",
   "nbconvert_exporter": "python",
   "pygments_lexer": "ipython3",
   "version": "3.13.5"
  }
 },
 "nbformat": 4,
 "nbformat_minor": 5
}
